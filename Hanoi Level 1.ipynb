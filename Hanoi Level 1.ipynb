{
 "cells": [
  {
   "cell_type": "code",
   "execution_count": 1,
   "metadata": {},
   "outputs": [],
   "source": [
    "%matplotlib inline\n",
    "%load_ext autoreload\n",
    "%autoreload 2\n",
    "\n",
    "from __future__ import unicode_literals, print_function, division\n",
    "# import os, sys\n",
    "# os.environ[\"CUDA_DEVICE_ORDER\"]=\"PCI_BUS_ID\"   # see issue #152\n",
    "# os.environ[\"CUDA_VISIBLE_DEVICES\"]=\"0\"\n",
    "\n",
    "from io import open\n",
    "import glob\n",
    "import os, sys\n",
    "import unicodedata\n",
    "import string\n",
    "import time\n",
    "import math\n",
    "import argparse\n",
    "import torch\n",
    "import torch.nn as nn\n",
    "import torch.nn.functional as F\n",
    "import torch.optim as optim\n",
    "from torchvision import datasets, transforms\n",
    "from random import randint\n",
    "from torch.autograd import Variable\n",
    "import numpy as np\n",
    "from numpy.random import shuffle\n",
    "from common import *\n",
    "from datasets.hanoi import *\n",
    "# from models.arbtree import SpawnNet, ReadNet, DiscrimNet\n",
    "from models.single import SpawnNet, ReadNet, DiscrimNet"
   ]
  },
  {
   "cell_type": "code",
   "execution_count": 2,
   "metadata": {},
   "outputs": [],
   "source": [
    "class args:\n",
    "    batch = 64\n",
    "    iters = 50000\n",
    "    readsize = 64\n",
    "    readHidden = 64\n",
    "    zsize = 8\n",
    "    lr = 1e-4"
   ]
  },
  {
   "cell_type": "code",
   "execution_count": 3,
   "metadata": {},
   "outputs": [],
   "source": [
    "ZSIZE = args.zsize\n",
    "BSIZE = args.batch\n",
    "READSIZE = args.readsize  # size of node readout\n",
    "LR = args.lr\n",
    "n_iters = args.iters"
   ]
  },
  {
   "cell_type": "code",
   "execution_count": 4,
   "metadata": {},
   "outputs": [],
   "source": [
    "device = torch.device(\"cuda:0\" if torch.cuda.is_available() else \"cpu\")\n",
    "bhalf = BSIZE // 2\n",
    "real_labels = Variable(torch.ones(bhalf, 1), requires_grad=False).to(device)\n",
    "fake_labels = Variable(torch.zeros(bhalf, 1), requires_grad=False).to(device)\n",
    "adversarial_loss = torch.nn.BCELoss().to(device)\n",
    "TARGET = Hanoi\n",
    "Tree.init(device, resolution=1, readsize=READSIZE)    # tree-level operations\n",
    "Node.init(device)    # give device handle to nodes\n",
    "MAX_HEIGHT = 1         # where root is 0\n"
   ]
  },
  {
   "cell_type": "code",
   "execution_count": 5,
   "metadata": {},
   "outputs": [],
   "source": [
    "comment='''\n",
    "Training Phases:\n",
    "\n",
    "* Generative\n",
    "1. For depth D = N\n",
    "2. Gather target trees\n",
    "3. Generate frontier for tree of depth D = N - 1\n",
    "4. Adversarial training between target and generated\n",
    "5. Repeat for D = 1 ... N\n",
    "\n",
    "* Iterative\n",
    "1. For trees of arb length\n",
    "2. Gather target trees\n",
    "3. Generate trees of arb depth until termination\n",
    "3.5  Run message passing/iteration for T = M steps\n",
    "4. Adversarial training of iteration model against target\n",
    "\n",
    "'''"
   ]
  },
  {
   "cell_type": "code",
   "execution_count": 6,
   "metadata": {},
   "outputs": [],
   "source": [
    "spawn = SpawnNet(zsize=ZSIZE).to(device)\n",
    "readout = ReadNet(readsize=READSIZE, hidden=args.readHidden).to(device)\n",
    "discrim = DiscrimNet(readsize=READSIZE).to(device)\n",
    "\n",
    "# NOTE: dont tune readout here; it'll optimize to fool the discrim!\n",
    "gen_opt = optim.Adam([\n",
    "    { 'params': spawn.parameters() },\n",
    "], lr=1e-4, weight_decay=1e-4)\n",
    "\n",
    "# Readout aligns with discriminator\n",
    "#  The goal of readout is to extract as much distinguishing info\n",
    "#   from any samples shown\n",
    "readout_opt = optim.Adam([\n",
    "    { 'params': readout.parameters() },\n",
    "    { 'params': discrim.parameters() },\n",
    "], lr=1e-3, weight_decay=1e-4)"
   ]
  },
  {
   "cell_type": "code",
   "execution_count": 7,
   "metadata": {},
   "outputs": [],
   "source": [
    "def norml1(val):\n",
    "    # all inference normalized under fixed resolution of 64x64\n",
    "    return val / 64\n",
    "\n",
    "def denorml1(val):\n",
    "    return val * 64"
   ]
  },
  {
   "cell_type": "code",
   "execution_count": null,
   "metadata": {
    "scrolled": false
   },
   "outputs": [
    {
     "name": "stdout",
     "output_type": "stream",
     "text": [
      "[1] Generate/L: 0.69788  Discrim/L : 0.69300  Score: 0.50      \r"
     ]
    },
    {
     "data": {
      "image/png": "[encoded data removed]",
      "text/plain": [
       "<Figure size 1008x504 with 10 Axes>"
      ]
     },
     "metadata": {},
     "output_type": "display_data"
    },
    {
     "name": "stdout",
     "output_type": "stream",
     "text": [
      "[1000] Generate/L: 0.67866  Discrim/L : 0.69260  Score: 0.50      \r"
     ]
    },
    {
     "data": {
      "image/png": "[encoded data removed]",
      "text/plain": [
       "<Figure size 1008x504 with 10 Axes>"
      ]
     },
     "metadata": {},
     "output_type": "display_data"
    },
    {
     "name": "stdout",
     "output_type": "stream",
     "text": [
      "[2000] Generate/L: 0.69159  Discrim/L : 0.69317  Score: 0.50      \r"
     ]
    },
    {
     "data": {
      "image/png": "[encoded data removed]",
      "text/plain": [
       "<Figure size 1008x504 with 10 Axes>"
      ]
     },
     "metadata": {},
     "output_type": "display_data"
    },
    {
     "name": "stdout",
     "output_type": "stream",
     "text": [
      "[3000] Generate/L: 0.68982  Discrim/L : 0.69278  Score: 0.50      \r"
     ]
    },
    {
     "data": {
      "image/png": "[encoded data removed]",
      "text/plain": [
       "<Figure size 1008x504 with 10 Axes>"
      ]
     },
     "metadata": {},
     "output_type": "display_data"
    },
    {
     "name": "stdout",
     "output_type": "stream",
     "text": [
      "[4000] Generate/L: 0.69210  Discrim/L : 0.69315  Score: 0.50      \r"
     ]
    },
    {
     "data": {
      "image/png": "[encoded data removed]",
      "text/plain": [
       "<Figure size 1008x504 with 10 Axes>"
      ]
     },
     "metadata": {},
     "output_type": "display_data"
    },
    {
     "name": "stdout",
     "output_type": "stream",
     "text": [
      "[5000] Generate/L: 0.69359  Discrim/L : 0.69305  Score: 0.50      \r"
     ]
    },
    {
     "data": {
      "image/png": "[encoded data removed]",
      "text/plain": [
       "<Figure size 1008x504 with 10 Axes>"
      ]
     },
     "metadata": {},
     "output_type": "display_data"
    },
    {
     "name": "stdout",
     "output_type": "stream",
     "text": [
      "[6000] Generate/L: 0.69291  Discrim/L : 0.69313  Score: 0.50      \r"
     ]
    },
    {
     "data": {
      "image/png": "[encoded data removed]",
      "text/plain": [
       "<Figure size 1008x504 with 10 Axes>"
      ]
     },
     "metadata": {},
     "output_type": "display_data"
    },
    {
     "name": "stdout",
     "output_type": "stream",
     "text": [
      "[7000] Generate/L: 0.69328  Discrim/L : 0.69317  Score: 0.50      \r"
     ]
    },
    {
     "data": {
      "image/png": "[encoded data removed]",
      "text/plain": [
       "<Figure size 1008x504 with 10 Axes>"
      ]
     },
     "metadata": {},
     "output_type": "display_data"
    },
    {
     "name": "stdout",
     "output_type": "stream",
     "text": [
      "[8000] Generate/L: 0.69228  Discrim/L : 0.69315  Score: 0.50      \r"
     ]
    },
    {
     "data": {
      "image/png": "[encoded data removed]",
      "text/plain": [
       "<Figure size 1008x504 with 10 Axes>"
      ]
     },
     "metadata": {},
     "output_type": "display_data"
    },
    {
     "name": "stdout",
     "output_type": "stream",
     "text": [
      "[9000] Generate/L: 0.69374  Discrim/L : 0.69314  Score: 0.50      \r"
     ]
    },
    {
     "data": {
      "image/png": "[encoded data removed]",
      "text/plain": [
       "<Figure size 1008x504 with 10 Axes>"
      ]
     },
     "metadata": {},
     "output_type": "display_data"
    },
    {
     "name": "stdout",
     "output_type": "stream",
     "text": [
      "[10000] Generate/L: 0.69568  Discrim/L : 0.69312  Score: 0.50      \r"
     ]
    },
    {
     "data": {
      "image/png": "[encoded data removed]",
      "text/plain": [
       "<Figure size 1008x504 with 10 Axes>"
      ]
     },
     "metadata": {},
     "output_type": "display_data"
    },
    {
     "name": "stdout",
     "output_type": "stream",
     "text": [
      "[11000] Generate/L: 0.69416  Discrim/L : 0.69312  Score: 0.50      \r"
     ]
    },
    {
     "data": {
      "image/png": "[encoded data removed]",
      "text/plain": [
       "<Figure size 1008x504 with 10 Axes>"
      ]
     },
     "metadata": {},
     "output_type": "display_data"
    },
    {
     "name": "stdout",
     "output_type": "stream",
     "text": [
      "[12000] Generate/L: 0.69336  Discrim/L : 0.69315  Score: 0.50      \r"
     ]
    },
    {
     "data": {
      "image/png": "[encoded data removed]",
      "text/plain": [
       "<Figure size 1008x504 with 10 Axes>"
      ]
     },
     "metadata": {},
     "output_type": "display_data"
    },
    {
     "name": "stdout",
     "output_type": "stream",
     "text": [
      "[13000] Generate/L: 0.68993  Discrim/L : 0.69315  Score: 0.50      \r"
     ]
    },
    {
     "data": {
      "image/png": "[encoded data removed]",
      "text/plain": [
       "<Figure size 1008x504 with 10 Axes>"
      ]
     },
     "metadata": {},
     "output_type": "display_data"
    },
    {
     "name": "stdout",
     "output_type": "stream",
     "text": [
      "[14000] Generate/L: 0.69417  Discrim/L : 0.69314  Score: 0.50      \r"
     ]
    },
    {
     "data": {
      "image/png": "[encoded data removed]",
      "text/plain": [
       "<Figure size 1008x504 with 10 Axes>"
      ]
     },
     "metadata": {},
     "output_type": "display_data"
    },
    {
     "name": "stdout",
     "output_type": "stream",
     "text": [
      "[15000] Generate/L: 0.69333  Discrim/L : 0.69311  Score: 0.58      \r"
     ]
    },
    {
     "data": {
      "image/png": "[encoded data removed]",
      "text/plain": [
       "<Figure size 1008x504 with 10 Axes>"
      ]
     },
     "metadata": {},
     "output_type": "display_data"
    },
    {
     "name": "stdout",
     "output_type": "stream",
     "text": [
      "[16000] Generate/L: 0.69325  Discrim/L : 0.69313  Score: 0.50      \r"
     ]
    },
    {
     "data": {
      "image/png": "[encoded data removed]",
      "text/plain": [
       "<Figure size 1008x504 with 10 Axes>"
      ]
     },
     "metadata": {},
     "output_type": "display_data"
    },
    {
     "name": "stdout",
     "output_type": "stream",
     "text": [
      "[17000] Generate/L: 0.69603  Discrim/L : 0.69298  Score: 0.50      \r"
     ]
    },
    {
     "data": {
      "image/png": "[encoded data removed]",
      "text/plain": [
       "<Figure size 1008x504 with 10 Axes>"
      ]
     },
     "metadata": {},
     "output_type": "display_data"
    },
    {
     "name": "stdout",
     "output_type": "stream",
     "text": [
      "[18000] Generate/L: 0.69608  Discrim/L : 0.69249  Score: 0.50      \r"
     ]
    },
    {
     "data": {
      "image/png": "[encoded data removed]",
      "text/plain": [
       "<Figure size 1008x504 with 10 Axes>"
      ]
     },
     "metadata": {},
     "output_type": "display_data"
    },
    {
     "name": "stdout",
     "output_type": "stream",
     "text": [
      "[19000] Generate/L: 0.67338  Discrim/L : 0.69340  Score: 0.50      \r"
     ]
    },
    {
     "data": {
      "image/png": "[encoded data removed]",
      "text/plain": [
       "<Figure size 1008x504 with 10 Axes>"
      ]
     },
     "metadata": {},
     "output_type": "display_data"
    },
    {
     "name": "stdout",
     "output_type": "stream",
     "text": [
      "[20000] Generate/L: 0.69314  Discrim/L : 0.69315  Score: 0.50      \r"
     ]
    },
    {
     "data": {
      "image/png": "[encoded data removed]",
      "text/plain": [
       "<Figure size 1008x504 with 10 Axes>"
      ]
     },
     "metadata": {},
     "output_type": "display_data"
    },
    {
     "name": "stdout",
     "output_type": "stream",
     "text": [
      "[21000] Generate/L: 0.69426  Discrim/L : 0.69315  Score: 0.50      \r"
     ]
    },
    {
     "data": {
      "image/png": "[encoded data removed]",
      "text/plain": [
       "<Figure size 1008x504 with 10 Axes>"
      ]
     },
     "metadata": {},
     "output_type": "display_data"
    },
    {
     "name": "stdout",
     "output_type": "stream",
     "text": [
      "[22000] Generate/L: 0.69317  Discrim/L : 0.69315  Score: 0.50      \r"
     ]
    },
    {
     "data": {
      "image/png": "[encoded data removed]",
      "text/plain": [
       "<Figure size 1008x504 with 10 Axes>"
      ]
     },
     "metadata": {},
     "output_type": "display_data"
    },
    {
     "name": "stdout",
     "output_type": "stream",
     "text": [
      "[23000] Generate/L: 0.69316  Discrim/L : 0.69315  Score: 0.50      \r"
     ]
    },
    {
     "data": {
      "image/png": "[encoded data removed]",
      "text/plain": [
       "<Figure size 1008x504 with 10 Axes>"
      ]
     },
     "metadata": {},
     "output_type": "display_data"
    },
    {
     "name": "stdout",
     "output_type": "stream",
     "text": [
      "[24000] Generate/L: 0.69318  Discrim/L : 0.69315  Score: 0.50      \r"
     ]
    },
    {
     "data": {
      "image/png": "[encoded data removed]",
      "text/plain": [
       "<Figure size 1008x504 with 10 Axes>"
      ]
     },
     "metadata": {},
     "output_type": "display_data"
    },
    {
     "name": "stdout",
     "output_type": "stream",
     "text": [
      "[24622] Generate/L: 0.69319  Discrim/L : 0.69315  Score: 0.50      \r"
     ]
    }
   ],
   "source": [
    "all_fake_trees = []\n",
    "all_losses = []\n",
    "for iter in range(1, n_iters + 1):\n",
    "    spawn.zero_grad()\n",
    "    readout.zero_grad()\n",
    "\n",
    "    readouts = []\n",
    "    real_trees = []\n",
    "    for bii in range(bhalf):\n",
    "        root = TARGET(endh=MAX_HEIGHT, normalize=norml1)\n",
    "        R_G = Tree.readout_fill(root, readout)\n",
    "        readouts.append(R_G)\n",
    "        real_trees.append(root)\n",
    "    real_readouts = torch.stack(readouts).to(device)\n",
    "\n",
    "    def nodestruct(child_hv):\n",
    "        # modularized instructions to create a new node for recursion\n",
    "        return TARGET(endh=0, h_v=child_hv, normalize=norml1)\n",
    "\n",
    "    fake_readouts = []\n",
    "    fake_detached = []\n",
    "    fake_trees = []\n",
    "    for bii in range(bhalf):\n",
    "        root = TARGET(endh=MAX_HEIGHT - 1, normalize=norml1)\n",
    "        Tree.spawn(root, spawn, spawn.init_noise, nodestruct)\n",
    "        # Tree.show(root)\n",
    "        R_G = Tree.readout_fill(root, readout)\n",
    "        fake_readouts.append(R_G)\n",
    "        fake_trees.append(root)\n",
    "        if iter % 10 == 1: # save archive of fake trees\n",
    "            all_fake_trees.append(root)\n",
    "\n",
    "        R_G = Tree.readout_fill(root, readout, detach=True)\n",
    "        fake_detached.append(R_G)\n",
    "    fake_readouts = torch.stack(fake_readouts).to(device)\n",
    "    fake_detached = torch.stack(fake_detached).to(device)\n",
    "    # print(readout.model[0].weight.data.detach().cpu().numpy()[0, :5])\n",
    "\n",
    "    # GENERATION PHASE\n",
    "\n",
    "    # -- Generator Training --\n",
    "    gen_loss = adversarial_loss(discrim(fake_readouts), real_labels)\n",
    "    gen_loss.backward(retain_graph=True)\n",
    "    gen_opt.step()\n",
    "\n",
    "    # -- Discrimination Training --\n",
    "    # NOTE: Readout gradients carry over to discriminiator training\n",
    "    discrim.zero_grad()\n",
    "\n",
    "    real_guesses = discrim(real_readouts)\n",
    "    real_loss = adversarial_loss(real_guesses, real_labels)\n",
    "    fake_guesses = discrim(fake_detached)\n",
    "    fake_loss = adversarial_loss(fake_guesses, fake_labels)\n",
    "\n",
    "    real_score = score(real_guesses, real_labels)\n",
    "    fake_score = score(fake_guesses, fake_labels)\n",
    "    disc_score = (real_score + fake_score) / 2\n",
    "    assert disc_score <= 1.0\n",
    "\n",
    "    discrim_loss = (real_loss + fake_loss) / 2\n",
    "\n",
    "    discrim_loss.backward()\n",
    "    # if iter % 10 == 0:\n",
    "    readout_opt.step()\n",
    "    # else:\n",
    "    # discrim_opt.step()\n",
    "\n",
    "    sys.stdout.write('[%d] Generate/L: %.5f  Discrim/L : %.5f  Score: %.2f      \\r' % (\n",
    "        iter,\n",
    "        gen_loss.item(),\n",
    "        discrim_loss.item(),\n",
    "        disc_score))\n",
    "    sys.stdout.flush()\n",
    "    all_losses.append((gen_loss.item(), discrim_loss.item(),))\n",
    "\n",
    "    if iter % 1000 == 0 or iter == 1:\n",
    "        row_samples('samples/hanoi_fk_%d' % iter, \n",
    "                    fake_trees[:5] + real_trees[:5], \n",
    "                    denorm=denorml1, \n",
    "                    plot=True)\n",
    "\n",
    "print()"
   ]
  },
  {
   "cell_type": "code",
   "execution_count": 9,
   "metadata": {},
   "outputs": [
    {
     "name": "stdout",
     "output_type": "stream",
     "text": [
      "hello\n"
     ]
    }
   ],
   "source": [
    "print('hello')dd"
   ]
  },
  {
   "cell_type": "code",
   "execution_count": null,
   "metadata": {},
   "outputs": [],
   "source": []
  }
 ],
 "metadata": {
  "kernelspec": {
   "display_name": "Python 3",
   "language": "python",
   "name": "python3"
  },
  "language_info": {
   "codemirror_mode": {
    "name": "ipython",
    "version": 3
   },
   "file_extension": ".py",
   "mimetype": "text/x-python",
   "name": "python",
   "nbconvert_exporter": "python",
   "pygments_lexer": "ipython3",
   "version": "3.5.2"
  }
 },
 "nbformat": 4,
 "nbformat_minor": 2
}
