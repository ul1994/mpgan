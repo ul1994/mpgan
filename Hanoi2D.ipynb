{
 "cells": [
  {
   "cell_type": "markdown",
   "metadata": {},
   "source": [
    "Notes:\n",
    "* Uses WGAN metric\n",
    "* 2D case of Hanoi geometry\n",
    "* Only inference on first level"
   ]
  },
  {
   "cell_type": "code",
   "execution_count": 1,
   "metadata": {},
   "outputs": [],
   "source": [
    "%load_ext autoreload\n",
    "%autoreload 2\n",
    "%matplotlib inline"
   ]
  },
  {
   "cell_type": "code",
   "execution_count": 40,
   "metadata": {},
   "outputs": [],
   "source": [
    "from scipy.stats import norm\n",
    "import matplotlib.pyplot as plt\n",
    "from io import open\n",
    "import glob\n",
    "import os, sys\n",
    "import unicodedata\n",
    "import string\n",
    "import time\n",
    "import math\n",
    "import argparse\n",
    "import torch\n",
    "import torch.nn as nn\n",
    "import torch.nn.functional as F\n",
    "import torch.optim as optim\n",
    "from torchvision import datasets, transforms\n",
    "from random import randint\n",
    "from torch.autograd import Variable\n",
    "import numpy as np\n",
    "from numpy.random import shuffle\n",
    "from common import *\n",
    "# from datasets.hanoi import *\n",
    "\n",
    "from models.hanoi2d import *"
   ]
  },
  {
   "cell_type": "code",
   "execution_count": 3,
   "metadata": {},
   "outputs": [],
   "source": [
    "from numpy.random import normal\n",
    "\n",
    "def get_samples(size=1, imsize=64, shrink=3/4, \n",
    "                baseonly=False, tensor=True, device=None, concat=False):\n",
    "    batch = []\n",
    "    for ii in range(size):\n",
    "        d0 = np.abs(normal(0, 5))\n",
    "        s0 = imsize - d0\n",
    "        y0 = max(min(normal((imsize - s0)//2, 1), imsize-s0), 0)\n",
    "        x0 = max(min(normal((imsize - s0)//2, 1), imsize-s0), 0)\n",
    "        \n",
    "        s1 = normal(s0*(shrink), 10)\n",
    "        s1 = min(s1, s0) # cannot exceed parent\n",
    "        y1 = max(min(normal((s0 - s1)//2, 5), s0 - s1), 0)\n",
    "        x1 = max(min(normal((s0 - s1)//2, 5), s0 - s1), 0)\n",
    "        \n",
    "        stack = [torch.FloatTensor([x0/imsize, y0/imsize, s0/imsize, s0/imsize]).to(device)]\n",
    "        if not baseonly:\n",
    "            stack += [torch.FloatTensor([x1/imsize, y1/imsize, s1/imsize, s1/imsize]).to(device)]\n",
    "        if concat:\n",
    "            stack = torch.cat(stack, -1).to(device)\n",
    "        batch.append(stack)\n",
    "    return batch\n",
    "\n",
    "def raster(stack, imsize=64, colors=[1, 0.7]):\n",
    "    canvas = np.zeros((imsize, imsize))\n",
    "    yoffset, xoffset = 0, 0\n",
    "    for ni, node in enumerate(stack):\n",
    "        xx, yy, sizeX, sizeY = node.detach().cpu().numpy() * imsize\n",
    "        canvas[\n",
    "            int(yy+yoffset):int(yy+yoffset+sizeY), \n",
    "            int(xx+xoffset):int(xx+xoffset+sizeX)] = colors[ni]\n",
    "        yoffset += yy\n",
    "        xoffset += xx\n",
    "    return canvas"
   ]
  },
  {
   "cell_type": "code",
   "execution_count": 6,
   "metadata": {},
   "outputs": [
    {
     "data": {
      "image/png": "[encoded data removed]",
      "text/plain": [
       "<Figure size 1008x360 with 6 Axes>"
      ]
     },
     "metadata": {},
     "output_type": "display_data"
    }
   ],
   "source": [
    "spreview = 6\n",
    "samples = get_samples(spreview)\n",
    "\n",
    "plt.figure(figsize=(14, 5))\n",
    "for ii in range(spreview):\n",
    "    plt.subplot(1, spreview, ii+1)\n",
    "    plt.imshow(raster(samples[ii]), cmap='gray', vmin=0, vmax=1)\n",
    "    plt.axis('off')\n",
    "plt.show()\n",
    "plt.close()"
   ]
  },
  {
   "cell_type": "code",
   "execution_count": 34,
   "metadata": {},
   "outputs": [],
   "source": [
    "def tonumpy(torch_stack):\n",
    "    nplist = []\n",
    "    for ent in torch_stack:\n",
    "        nplist.append(ent.detach().cpu().numpy())\n",
    "    return nplist\n",
    "\n",
    "def coverage(stack):\n",
    "    s0, s1 = stack\n",
    "    ratioX = s1[2] / s0[2]\n",
    "    ratioY = s1[3] / s0[3]\n",
    "    return ratioX, ratioY\n",
    "\n",
    "def centering(stack):\n",
    "    def center_ratio(possible, actual):\n",
    "        if possible == 0: return 0\n",
    "        center = possible / 2\n",
    "        offset = actual - center\n",
    "        return offset / center\n",
    "    \n",
    "    s0, s1 = stack\n",
    "    return center_ratio(s0[2] - s1[2], s1[0]), center_ratio(s0[3] - s1[3], s1[1])\n",
    "\n",
    "def plot_coverage(stack_hist, dim, target=None, plot=True):\n",
    "    if plot: plt.figure(figsize=(14, 3))\n",
    "        \n",
    "#     def plot_dim(dim):\n",
    "    means = []\n",
    "    errs = []\n",
    "\n",
    "    for stage in stack_hist:\n",
    "        covs = [coverage(tonumpy(stack))[dim] for stack in stage]\n",
    "        mu = np.mean(covs)\n",
    "        var = np.var(covs)\n",
    "        means.append(mu)\n",
    "        errs.append(var)\n",
    "\n",
    "    if target is not None:\n",
    "        plt.plot([-1, len(stack_hist)], [target, target])\n",
    "    plt.errorbar(np.arange(len(means)), means, yerr=errs, fmt='-o')\n",
    "    \n",
    "    if np.min(means) > 0 and np.max(means) < 1:\n",
    "        plt.ylim(0, 1)\n",
    "    if plot: plt.show()\n",
    "    if plot: plt.close()\n",
    "    \n",
    "def plot_centering(stack_hist, dim, plot=True):\n",
    "    means = []\n",
    "    errs = []\n",
    "    \n",
    "    target = 0 # drift w/ reference to center\n",
    "    for stage in stack_hist:\n",
    "        covs = [centering(tonumpy(stack))[dim] for stack in stage]\n",
    "        mu = np.mean(covs)\n",
    "        var = np.var(covs)\n",
    "        means.append(mu)\n",
    "        errs.append(var)\n",
    "    if plot: plt.figure(figsize=(14, 3))\n",
    "    if target is not None:\n",
    "        plt.plot([-1, len(stack_hist)], [target, target])\n",
    "    plt.errorbar(np.arange(len(means)), means, yerr=errs, fmt='-o')\n",
    "    if np.min(means) > -1 and np.max(means) < 1:\n",
    "        plt.ylim(-1, 1)\n",
    "    if plot: plt.show()\n",
    "    if plot: plt.close()\n",
    "\n",
    "def plot_distrib(stack_hist, target=0.75, recent=None):\n",
    "    if len(stack_hist) == 0: return\n",
    "    if recent is not None: stack_hist = stack_hist[-recent:]\n",
    "    plt.figure(figsize=(14, 3))\n",
    "    \n",
    "    plt.subplot(2, 2, 1)\n",
    "    plot_coverage(stack_hist, 0, target, plot=False)\n",
    "    plt.subplot(2, 2, 2)\n",
    "    plot_coverage(stack_hist, 1, target, plot=False)\n",
    "    \n",
    "    plt.subplot(2, 2, 3)\n",
    "    plot_centering(stack_hist, 0, plot=False)\n",
    "    plt.subplot(2, 2, 4)\n",
    "    plot_centering(stack_hist, 1, plot=False)\n",
    "    \n",
    "    plt.show()\n",
    "    plt.close()\n"
   ]
  },
  {
   "cell_type": "code",
   "execution_count": 35,
   "metadata": {},
   "outputs": [
    {
     "data": {
      "image/png": "[encoded data removed]",
      "text/plain": [
       "<Figure size 1008x216 with 1 Axes>"
      ]
     },
     "metadata": {},
     "output_type": "display_data"
    },
    {
     "data": {
      "image/png": "[encoded data removed]",
      "text/plain": [
       "<Figure size 1008x216 with 1 Axes>"
      ]
     },
     "metadata": {},
     "output_type": "display_data"
    },
    {
     "data": {
      "image/png": "[encoded data removed]",
      "text/plain": [
       "<Figure size 1008x216 with 1 Axes>"
      ]
     },
     "metadata": {},
     "output_type": "display_data"
    },
    {
     "data": {
      "image/png": "[encoded data removed]",
      "text/plain": [
       "<Figure size 1008x216 with 1 Axes>"
      ]
     },
     "metadata": {},
     "output_type": "display_data"
    },
    {
     "data": {
      "image/png": "[encoded data removed]",
      "text/plain": [
       "<Figure size 1008x216 with 4 Axes>"
      ]
     },
     "metadata": {},
     "output_type": "display_data"
    }
   ],
   "source": [
    "hist = [get_samples(100) for ii in range(50)]\n",
    "\n",
    "plot_coverage(hist, dim=0, target=0.75)\n",
    "plot_coverage(hist, dim=1, target=0.75)\n",
    "\n",
    "plot_centering(hist, dim=0)\n",
    "plot_centering(hist, dim=1)\n",
    "\n",
    "plot_distrib(hist)"
   ]
  },
  {
   "cell_type": "code",
   "execution_count": 44,
   "metadata": {},
   "outputs": [
    {
     "data": {
      "text/plain": [
       "device(type='cuda', index=0)"
      ]
     },
     "execution_count": 44,
     "metadata": {},
     "output_type": "execute_result"
    }
   ],
   "source": [
    "LR = 5e-5\n",
    "BSIZE = 64\n",
    "bhalf = BSIZE // 2\n",
    "device = torch.device(\"cuda:0\" if torch.cuda.is_available() else \"cpu\")\n",
    "real_labels = Variable(torch.ones(bhalf, 1), requires_grad=False).to(device)\n",
    "fake_labels = Variable(torch.zeros(bhalf, 1), requires_grad=False).to(device)\n",
    "device"
   ]
  },
  {
   "cell_type": "code",
   "execution_count": 41,
   "metadata": {},
   "outputs": [],
   "source": [
    "spawn = SpawnNet(hsize=4, zsize=4).to(device)\n",
    "discrim = DiscrimNet(hsize=4).to(device)\n",
    "\n",
    "gen_opt = optim.Adam([\n",
    "    { 'params': spawn.parameters() },\n",
    "], lr=LR)\n",
    "\n",
    "discrim_opt = optim.Adam([\n",
    "    { 'params': discrim.parameters() },\n",
    "], lr=LR)"
   ]
  },
  {
   "cell_type": "code",
   "execution_count": 42,
   "metadata": {},
   "outputs": [
    {
     "data": {
      "image/png": "[encoded data removed]",
      "text/plain": [
       "<Figure size 1008x216 with 4 Axes>"
      ]
     },
     "metadata": {},
     "output_type": "display_data"
    }
   ],
   "source": [
    "def sample_fakes():\n",
    "    fake_samples = []\n",
    "    bases = get_samples(100, baseonly=True)\n",
    "    for stack in bases:\n",
    "        zvar = spawn.init_noise(size=4).to(device)\n",
    "        hp = stack[0].to(device)\n",
    "        zout = spawn(hp, zvar)\n",
    "        fake_samples.append(stack + [zout.cpu()])\n",
    "    return fake_samples\n",
    "\n",
    "history=[sample_fakes()]\n",
    "plot_distrib(history)"
   ]
  },
  {
   "cell_type": "code",
   "execution_count": null,
   "metadata": {
    "scrolled": false
   },
   "outputs": [
    {
     "name": "stdout",
     "output_type": "stream",
     "text": [
      "[3330] Generate/L: -0.01767  Discrim/L : 0.00027  Score: 0.50    \r"
     ]
    }
   ],
   "source": [
    "history=[]\n",
    "n_iters = 500 * 1000\n",
    "\n",
    "for iter in range(1, n_iters + 1):\n",
    "    spawn.train()\n",
    "    discrim.train()\n",
    "    \n",
    "    discrim_opt.zero_grad()\n",
    "\n",
    "    real_samples = get_samples(bhalf, concat=True, device=device)\n",
    "    real_samples = torch.stack(real_samples).to(device)\n",
    "    just_bases = get_samples(bhalf, baseonly=True, device=device)\n",
    "    fake_samples = []\n",
    "    for stack in just_bases:\n",
    "        zvar = spawn.init_noise(size=4).to(device)\n",
    "        hp = stack[0]\n",
    "        hchild = spawn(hp, zvar)\n",
    "        fake_samples.append(torch.cat(stack + [hchild], -1).to(device))\n",
    "    fake_samples = torch.stack(fake_samples).to(device)\n",
    "    \n",
    "    # -- Discrimination Training --\n",
    "    real_guesses = discrim(real_samples, sigmoid=False)\n",
    "    fake_guesses = discrim(fake_samples.detach(), sigmoid=False)\n",
    "    # loss_D = -torch.mean(discriminator(real_imgs)) + torch.mean(discriminator(fake_imgs))\n",
    "    discrim_loss = -torch.mean(real_guesses) + torch.mean(fake_guesses)\n",
    "    discrim_loss.backward()\n",
    "    discrim_opt.step()\n",
    "    for p in discrim.parameters():\n",
    "        p.data.clamp_(-0.01, 0.01)\n",
    "    \n",
    "    real_score = score(real_guesses, real_labels)\n",
    "    fake_score = score(fake_guesses, fake_labels)\n",
    "    disc_score = (real_score + fake_score) / 2\n",
    "    assert disc_score <= 1.0\n",
    "    \n",
    "    if iter % 5 == 0:\n",
    "        fake_samples = []\n",
    "        just_bases = get_samples(bhalf, baseonly=True, device=device)\n",
    "        for stack in just_bases:\n",
    "            zvar = spawn.init_noise(size=4).to(device)\n",
    "            hp = stack[0]\n",
    "            hchild = spawn(hp, zvar)\n",
    "            fake_samples.append(torch.cat(stack + [hchild], -1).to(device))\n",
    "        fake_samples = torch.stack(fake_samples).to(device)\n",
    "        \n",
    "        # -- Generator Training --\n",
    "        gen_opt.zero_grad()\n",
    "        # loss_G = -torch.mean(discriminator(gen_imgs))\n",
    "        gen_loss = -torch.mean(discrim(fake_samples, sigmoid=False))\n",
    "        gen_loss.backward()\n",
    "        gen_opt.step()\n",
    "\n",
    "    if iter % 10 == 0:\n",
    "        sys.stdout.write('[%d] Generate/L: %.5f  Discrim/L : %.5f  Score: %.2f   \\r' % (\n",
    "            iter,\n",
    "            gen_loss.item(),\n",
    "            discrim_loss.item(),\n",
    "            disc_score))\n",
    "    \n",
    "    if iter % 100 == 0:\n",
    "        spawn.eval()\n",
    "        discrim.eval()\n",
    "        preview = sample_fakes()\n",
    "        history.append(preview)\n",
    "\n",
    "    if iter % 5000 == 0:        \n",
    "        plot_distrib(history, recent=30)\n"
   ]
  },
  {
   "cell_type": "code",
   "execution_count": null,
   "metadata": {},
   "outputs": [],
   "source": [
    "plot_distrib(history)\n",
    "plot_distrib(history, recent=50)"
   ]
  },
  {
   "cell_type": "code",
   "execution_count": null,
   "metadata": {},
   "outputs": [],
   "source": [
    "plt.figure(figsize=(14, 10))\n",
    "for jj in range(2):\n",
    "    for ii in range(spreview):\n",
    "        ind = spreview*jj+ii\n",
    "        plt.subplot(2, spreview, ind+1)\n",
    "        plt.imshow(raster(history[-1][ind]), cmap='gray', vmin=0, vmax=1)\n",
    "plt.show()\n",
    "plt.close()"
   ]
  },
  {
   "cell_type": "code",
   "execution_count": null,
   "metadata": {},
   "outputs": [],
   "source": [
    "real_samples = get_samples(50)\n",
    "plt.figure(figsize=(14, 10))\n",
    "for jj in range(2):\n",
    "    for ii in range(spreview):\n",
    "        ind = spreview*jj+ii\n",
    "        plt.subplot(2, spreview, ind+1)\n",
    "        plt.imshow(raster(real_samples[ind]), cmap='gray', vmin=0, vmax=1)\n",
    "plt.show()\n",
    "plt.close()"
   ]
  },
  {
   "cell_type": "code",
   "execution_count": null,
   "metadata": {},
   "outputs": [],
   "source": []
  }
 ],
 "metadata": {
  "kernelspec": {
   "display_name": "Python 3",
   "language": "python",
   "name": "python3"
  },
  "language_info": {
   "codemirror_mode": {
    "name": "ipython",
    "version": 3
   },
   "file_extension": ".py",
   "mimetype": "text/x-python",
   "name": "python",
   "nbconvert_exporter": "python",
   "pygments_lexer": "ipython3",
   "version": "3.5.2"
  }
 },
 "nbformat": 4,
 "nbformat_minor": 2
}
